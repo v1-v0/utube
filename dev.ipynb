{
 "cells": [
  {
   "cell_type": "code",
   "execution_count": null,
   "metadata": {},
   "outputs": [
    {
     "name": "stdout",
     "output_type": "stream",
     "text": [
      "['https://www.youtube.com/watch?v=zbFHYjaqjzw', 'https://www.youtube.com/watch?v=sjV7NNwm1GU', 'https://www.youtube.com/watch?v=-Xj7zDwwU_I', 'https://www.youtube.com/watch?v=eKN22NFl58U', 'https://www.youtube.com/watch?v=sM-VI3alvAI', 'https://www.youtube.com/watch?v=QLT1vrnJXWI', 'https://www.youtube.com/watch?v=dhRIHF1DENI', 'https://www.youtube.com/watch?v=rphiCdR68TE', 'https://www.youtube.com/watch?v=z7aqJpKfPC0&t=79s', 'https://www.youtube.com/watch?v=SXmVnHgwOZs&t=25s']\n"
     ]
    }
   ],
   "source": [
    "# test yt-dlp on python 3.10\n",
    "import os\n",
    "\n",
    "sourceFile = os.path.join('import', '5760-L01-Videos.txt')\n",
    "\n",
    "videos_url = []\n",
    "\n",
    "with open(sourceFile, 'r') as file:\n",
    "    for line in file:\n",
    "        url = line.replace('\\n', '')\n",
    "        url = url.replace(' \\u200b', '')\n",
    "        videos_url.append(url)\n",
    "\n",
    "print(videos_url)\n",
    "\n",
    "\n",
    "\n",
    "\n"
   ]
  }
 ],
 "metadata": {
  "kernelspec": {
   "display_name": "yt311",
   "language": "python",
   "name": "python3"
  },
  "language_info": {
   "codemirror_mode": {
    "name": "ipython",
    "version": 3
   },
   "file_extension": ".py",
   "mimetype": "text/x-python",
   "name": "python",
   "nbconvert_exporter": "python",
   "pygments_lexer": "ipython3",
   "version": "3.11.11"
  }
 },
 "nbformat": 4,
 "nbformat_minor": 2
}
