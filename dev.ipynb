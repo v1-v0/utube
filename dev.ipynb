{
 "cells": [
  {
   "cell_type": "code",
   "execution_count": 14,
   "id": "1afafe37",
   "metadata": {},
   "outputs": [],
   "source": [
    "from pathlib import Path\n",
    "import pandas as pd\n",
    "import csv\n",
    "import os\n",
    "from dotenv import load_dotenv\n",
    "#from googleapiclient.discovery import build"
   ]
  },
  {
   "cell_type": "code",
   "execution_count": 15,
   "id": "089dfcc2",
   "metadata": {},
   "outputs": [
    {
     "name": "stdout",
     "output_type": "stream",
     "text": [
      "File found: Takeout/YouTube and YouTube Music/playlists/Watch later videos.csv\n",
      "File is a CSV: Takeout/YouTube and YouTube Music/playlists/Watch later videos.csv\n"
     ]
    }
   ],
   "source": [
    "# Construct the file path using Path from pathlib\n",
    "watchLaterVideo = Path(\"Takeout\") / \"YouTube and YouTube Music\" / \"playlists\" / \"Watch later videos.csv\"\n",
    "\n",
    "# Check if the file exists\n",
    "if not watchLaterVideo.exists():\n",
    "    print(f\"File not found: {watchLaterVideo}\")\n",
    "    exit(1)\n",
    "else:\n",
    "    print(f\"File found: {watchLaterVideo}\")\n",
    "# Check if the file is a CSV file\n",
    "if watchLaterVideo.suffix != '.csv':\n",
    "    print(f\"File is not a CSV: {watchLaterVideo}\")\n",
    "    exit(1)\n",
    "else:\n",
    "    print(f\"File is a CSV: {watchLaterVideo}\")\n"
   ]
  },
  {
   "cell_type": "code",
   "execution_count": 14,
   "id": "b2f9619a",
   "metadata": {},
   "outputs": [],
   "source": [
    "from googleapiclient.discovery import build\n",
    "\n",
    "load_dotenv()\n",
    "GOOGLE_KEY = os.getenv(\"googleKey\")\n",
    "if not GOOGLE_KEY:\n",
    "    print(\"Google API key not found in environment variables.\")\n",
    "    exit(1)\n",
    "youtube = build(\"youtube\", \"v3\", developerKey=GOOGLE_KEY)"
   ]
  },
  {
   "cell_type": "code",
   "execution_count": 15,
   "id": "22db68d4",
   "metadata": {},
   "outputs": [],
   "source": [
    "def get_channel_info(video_id):\n",
    "    try:\n",
    "        # Get video details\n",
    "        video_response = youtube.videos().list(\n",
    "            part=\"snippet\",\n",
    "            id=video_id\n",
    "        ).execute()\n",
    "\n",
    "        if video_response['items']:\n",
    "            return {\n",
    "                # retruning the video title\n",
    "                \"title\": video_response[\"items\"][0][\"snippet\"][\"title\"],\n",
    "                \"channelId\": video_response[\"items\"][0][\"snippet\"][\"channelId\"],\n",
    "                \"channelTitle\": video_response[\"items\"][0][\"snippet\"][\"channelTitle\"]\n",
    "            }\n",
    "        \n",
    "    except Exception as e:\n",
    "        print(f\"API Error: {str(e)}\")\n",
    "    return None"
   ]
  },
  {
   "cell_type": "code",
   "execution_count": 28,
   "id": "b9779c26",
   "metadata": {},
   "outputs": [
    {
     "name": "stdout",
     "output_type": "stream",
     "text": [
      "['vgmqUhvQlww', 'YfhPJ8GxdgI', '2aGe20OuUAU', 'JJXEhmcQxwg', 'vg8yizC4W8E']\n",
      "['https://www.youtube.com/watch?vvgmqUhvQlww', 'https://www.youtube.com/watch?vYfhPJ8GxdgI', 'https://www.youtube.com/watch?v2aGe20OuUAU', 'https://www.youtube.com/watch?vJJXEhmcQxwg', 'https://www.youtube.com/watch?vvg8yizC4W8E']\n",
      "[datetime.datetime(2025, 5, 3, 3, 56, 5, tzinfo=zoneinfo.ZoneInfo(key='UTC')), datetime.datetime(2025, 5, 1, 15, 43, 43, tzinfo=zoneinfo.ZoneInfo(key='UTC')), datetime.datetime(2025, 5, 4, 20, 19, 47, tzinfo=zoneinfo.ZoneInfo(key='UTC')), datetime.datetime(2025, 4, 24, 20, 7, 48, tzinfo=zoneinfo.ZoneInfo(key='UTC')), datetime.datetime(2025, 5, 2, 0, 31, 3, tzinfo=zoneinfo.ZoneInfo(key='UTC'))]\n"
     ]
    }
   ],
   "source": [
    "from datetime import datetime\n",
    "from zoneinfo import ZoneInfo\n",
    "# Function to convert timestamp to UTC\n",
    "def convert_to_utc(timestamp):\n",
    "    # Assuming the timestamp is in ISO 8601 format\n",
    "    dt = datetime.fromisoformat(timestamp)\n",
    "    # Convert to UTC\n",
    "    dt_utc = dt.astimezone(ZoneInfo(\"UTC\"))\n",
    "    return dt_utc\n",
    "\n",
    "# Read the CSV file and extract Video IDs\n",
    "ids = []\n",
    "urls = []\n",
    "created_dates = []\n",
    "with open(watchLaterVideo, 'r', encoding='utf-8') as file:\n",
    "    reader = csv.DictReader(file)\n",
    "    for row in reader:\n",
    "        # Check if the row has the required columns\n",
    "        if 'Video ID' in row and 'Playlist video creation timestamp' in row:\n",
    "            # Append the values to the lists\n",
    "                ids.append(row['Video ID'])\n",
    "                urls.append('https://www.youtube.com/watch?v' + row['Video ID'])\n",
    "                # convert the timestamp to a more readable format\n",
    "                timestamp = row['Playlist video creation timestamp']\n",
    "                dt_utc = convert_to_utc(timestamp)\n",
    "                created_dates.append(dt_utc)\n",
    "        else:\n",
    "            print(\"Required columns not found in the CSV file.\")\n",
    "            exit(1)\n",
    "# Print the first 5 entries of each list\n",
    "print(ids[:5])\n",
    "print(urls[:5])\n",
    "print(created_dates[:5])"
   ]
  },
  {
   "cell_type": "code",
   "execution_count": null,
   "id": "2414d5e4",
   "metadata": {},
   "outputs": [
    {
     "name": "stdout",
     "output_type": "stream",
     "text": [
      "Channel info saved to outputs/Watch later videos channel info.csv\n"
     ]
    }
   ],
   "source": [
    "df = pd.DataFrame([\n",
    "    {\n",
    "        'Video ID': video_id,\n",
    "        'Video Title': info['title'],\n",
    "\n",
    "        'Video Creation Date': info['create_datetime'],\n",
    "\n",
    "        'Channel ID': info['channelId'],\n",
    "        'Channel Title': info['channelTitle']\n",
    "    } for video_id, info in channel_info_dict.items()\n",
    "])\n",
    "\n",
    "p = Path(\"~/Downloads\") / \"Watch later videos channel info.xlsx\"\n",
    "p.expanduser()\n",
    "\n",
    "df.to_excel(p.expanduser(), index=False, engine='openpyxl')\n",
    "print(f\"Channel info saved to {output_file}\")"
   ]
  }
 ],
 "metadata": {
  "kernelspec": {
   "display_name": "yt311",
   "language": "python",
   "name": "python3"
  },
  "language_info": {
   "codemirror_mode": {
    "name": "ipython",
    "version": 3
   },
   "file_extension": ".py",
   "mimetype": "text/x-python",
   "name": "python",
   "nbconvert_exporter": "python",
   "pygments_lexer": "ipython3",
   "version": "3.11.11"
  }
 },
 "nbformat": 4,
 "nbformat_minor": 5
}
