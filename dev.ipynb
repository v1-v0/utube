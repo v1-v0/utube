{
 "cells": [
  {
   "cell_type": "code",
   "execution_count": 37,
   "id": "1afafe37",
   "metadata": {},
   "outputs": [],
   "source": [
    "from pathlib import Path\n",
    "import pandas as pd\n",
    "import csv\n",
    "import os\n",
    "from dotenv import load_dotenv\n",
    "#from googleapiclient.discovery import build"
   ]
  },
  {
   "cell_type": "code",
   "execution_count": 38,
   "id": "089dfcc2",
   "metadata": {},
   "outputs": [
    {
     "name": "stdout",
     "output_type": "stream",
     "text": [
      "File found: Takeout/YouTube and YouTube Music/playlists/Watch later videos.csv\n",
      "File is a CSV: Takeout/YouTube and YouTube Music/playlists/Watch later videos.csv\n"
     ]
    }
   ],
   "source": [
    "# Construct the file path using Path from pathlib\n",
    "watchLaterVideo = Path(\"Takeout\") / \"YouTube and YouTube Music\" / \"playlists\" / \"Watch later videos.csv\"\n",
    "\n",
    "# Check if the file exists\n",
    "if not watchLaterVideo.exists():\n",
    "    print(f\"File not found: {watchLaterVideo}\")\n",
    "    exit(1)\n",
    "else:\n",
    "    print(f\"File found: {watchLaterVideo}\")\n",
    "# Check if the file is a CSV file\n",
    "if watchLaterVideo.suffix != '.csv':\n",
    "    print(f\"File is not a CSV: {watchLaterVideo}\")\n",
    "    exit(1)\n",
    "else:\n",
    "    print(f\"File is a CSV: {watchLaterVideo}\")\n"
   ]
  },
  {
   "cell_type": "code",
   "execution_count": 39,
   "id": "b2f9619a",
   "metadata": {},
   "outputs": [],
   "source": [
    "from googleapiclient.discovery import build\n",
    "\n",
    "load_dotenv()\n",
    "GOOGLE_KEY = os.getenv(\"googleKey\")\n",
    "if not GOOGLE_KEY:\n",
    "    print(\"Google API key not found in environment variables.\")\n",
    "    exit(1)\n",
    "youtube = build(\"youtube\", \"v3\", developerKey=GOOGLE_KEY)"
   ]
  },
  {
   "cell_type": "code",
   "execution_count": 40,
   "id": "22db68d4",
   "metadata": {},
   "outputs": [],
   "source": [
    "def get_channel_info(video_id):\n",
    "    try:\n",
    "        # Get video details\n",
    "        video_response = youtube.videos().list(\n",
    "            part=\"snippet\",\n",
    "            id=video_id\n",
    "        ).execute()\n",
    "\n",
    "        if video_response['items']:\n",
    "            return {\n",
    "                # retruning the video title\n",
    "                \"title\": video_response[\"items\"][0][\"snippet\"][\"title\"],\n",
    "                \"channelId\": video_response[\"items\"][0][\"snippet\"][\"channelId\"],\n",
    "                \"channelTitle\": video_response[\"items\"][0][\"snippet\"][\"channelTitle\"]\n",
    "            }\n",
    "        \n",
    "    except Exception as e:\n",
    "        print(f\"API Error: {str(e)}\")\n",
    "    return None"
   ]
  },
  {
   "cell_type": "code",
   "execution_count": 32,
   "id": "ccce1d12",
   "metadata": {},
   "outputs": [
    {
     "name": "stdout",
     "output_type": "stream",
     "text": [
      "Current date and time: 2025-04-18 16:25:32\n"
     ]
    }
   ],
   "source": [
    "from datetime import datetime\n",
    "from zoneinfo import ZoneInfo\n",
    "\n",
    "t = '2025-04-18T08:25:32+00:00'\n",
    "\n",
    "# Parse the string into a datetime object\n",
    "dt = datetime.fromisoformat(t)\n",
    "\n",
    "# Convert to the desired timezone\n",
    "dt = dt.astimezone(ZoneInfo(\"Asia/Hong_Kong\"))\n",
    "print(f\"Current date and time: {dt.strftime('%Y-%m-%d %H:%M:%S')}\")"
   ]
  },
  {
   "cell_type": "code",
   "execution_count": 41,
   "id": "b9779c26",
   "metadata": {},
   "outputs": [
    {
     "name": "stdout",
     "output_type": "stream",
     "text": [
      "['vgmqUhvQlww', 'YfhPJ8GxdgI', '2aGe20OuUAU', 'JJXEhmcQxwg', 'vg8yizC4W8E']\n",
      "['https://www.youtube.com/watch?vvgmqUhvQlww', 'https://www.youtube.com/watch?vYfhPJ8GxdgI', 'https://www.youtube.com/watch?v2aGe20OuUAU', 'https://www.youtube.com/watch?vJJXEhmcQxwg', 'https://www.youtube.com/watch?vvg8yizC4W8E']\n",
      "['2025-05-03 11:56:05', '2025-05-01 23:43:43', '2025-05-05 04:19:47', '2025-04-25 04:07:48', '2025-05-02 08:31:03']\n"
     ]
    }
   ],
   "source": [
    "from datetime import datetime\n",
    "from zoneinfo import ZoneInfo\n",
    "# Function to convert timestamp to UTC\n",
    "def convert_to_utc(timestamp):\n",
    "    # Assuming the timestamp is in ISO 8601 format\n",
    "    dt = datetime.fromisoformat(timestamp)\n",
    "    # Convert to UTC\n",
    "    dt_utc = dt.astimezone(ZoneInfo(\"UTC\"))\n",
    "    return dt_utc\n",
    "\n",
    "# Read the CSV file and extract Video IDs\n",
    "ids = []\n",
    "urls = []\n",
    "created_dates = []\n",
    "with open(watchLaterVideo, 'r', encoding='utf-8') as file:\n",
    "    reader = csv.DictReader(file)\n",
    "    for row in reader:\n",
    "        # Check if the row has the required columns\n",
    "        if 'Video ID' in row and 'Playlist video creation timestamp' in row:\n",
    "            # Append the values to the lists\n",
    "                ids.append(row['Video ID'])\n",
    "                urls.append('https://www.youtube.com/watch?v' + row['Video ID'])\n",
    "                # convert the timestamp to a more readable format\n",
    "                timestamp = row['Playlist video creation timestamp']\n",
    "                dt = datetime.fromisoformat(timestamp)\n",
    "                dt = dt.astimezone(ZoneInfo(\"Asia/Hong_Kong\"))\n",
    "                dt = dt.strftime('%Y-%m-%d %H:%M:%S')\n",
    "                created_dates.append(dt)\n",
    "        else:\n",
    "            print(\"Required columns not found in the CSV file.\")\n",
    "            exit(1)\n",
    "# Print the first 5 entries of each list\n",
    "print(ids[:5])\n",
    "print(urls[:5])\n",
    "print(created_dates[:5])"
   ]
  },
  {
   "cell_type": "code",
   "execution_count": 42,
   "id": "2414d5e4",
   "metadata": {},
   "outputs": [
    {
     "name": "stdout",
     "output_type": "stream",
     "text": [
      "Channel info saved to /Users/hochiyau/Downloads/Watch later videos channel info.xlsx\n"
     ]
    }
   ],
   "source": [
    "# Create a dictionary to store channel information for each video ID\n",
    "channel_info_dict = {}\n",
    "\n",
    "# Fetch channel information for each video ID\n",
    "for video_id in ids:\n",
    "    info = get_channel_info(video_id)\n",
    "    if info:\n",
    "        channel_info_dict[video_id] = info\n",
    "\n",
    "# Create a DataFrame using the collected data\n",
    "df = pd.DataFrame([\n",
    "    {\n",
    "        'Video ID': video_id,\n",
    "        'Video URL': urls[idx],\n",
    "        'Video Creation Date': created_dates[idx],\n",
    "        'Video Title': info['title'],\n",
    "        'Channel ID': info['channelId'],\n",
    "        'Channel Title': info['channelTitle']\n",
    "    } for idx, (video_id, info) in enumerate(channel_info_dict.items())\n",
    "])\n",
    "\n",
    "# Define the output file path\n",
    "p = Path(\"~/Downloads\") / \"Watch later videos channel info.xlsx\"\n",
    "\n",
    "# Save the DataFrame to an Excel file\n",
    "df.to_excel(p.expanduser(), index=False, engine='openpyxl')\n",
    "print(f\"Channel info saved to {p.expanduser()}\")"
   ]
  },
  {
   "cell_type": "code",
   "execution_count": 43,
   "id": "58ada539",
   "metadata": {},
   "outputs": [
    {
     "name": "stdout",
     "output_type": "stream",
     "text": [
      "Channel info saved to /Users/hochiyau/Downloads/Watch later videos channel info.xlsx\n"
     ]
    }
   ],
   "source": [
    "df.to_excel(p.expanduser(), index=False, engine='openpyxl')\n",
    "print(f\"Channel info saved to {p.expanduser()}\")"
   ]
  }
 ],
 "metadata": {
  "kernelspec": {
   "display_name": "yt311",
   "language": "python",
   "name": "python3"
  },
  "language_info": {
   "codemirror_mode": {
    "name": "ipython",
    "version": 3
   },
   "file_extension": ".py",
   "mimetype": "text/x-python",
   "name": "python",
   "nbconvert_exporter": "python",
   "pygments_lexer": "ipython3",
   "version": "3.11.11"
  }
 },
 "nbformat": 4,
 "nbformat_minor": 5
}
